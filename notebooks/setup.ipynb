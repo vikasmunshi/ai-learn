{
 "cells": [
  {
   "cell_type": "markdown",
   "metadata": {
    "collapsed": true
   },
   "source": [
    "## Setup Jupyter on local machine\n",
    "### Prerequisites\n",
    "1. Downlaod and Install Python 3.6 [Python Download Page](https://www.python.org/downloads/ \"Python Software Foundation\")\n",
    "TensorFlow is not available for 3.7;\n",
    "For Windows downloads pay attention to 64/32 bit installer; install for all users requires admin password\n",
    "1. Create folder for Juypter notebook in your home dir\n",
    "1. Create Python Virtual Env\n",
    "1. Install jupyter\n",
    "1. Create start-up script to activate venv and start notebook\n",
    "```\n",
    "#!/usr/bin/env bash\n",
    "cd\n",
    "mkdir -p jupyter\n",
    "cd jupyter\n",
    "[[ -d venv ]] || {\n",
    "  python3.6 -m venv venv\n",
    "  . venv/bin/activate\n",
    "  pip install --upgrade pip\n",
    "  pip install jupyter\n",
    "}\n",
    "[[ -f notebook.sh ]] || {\n",
    "  echo -e \"#!/usr/bin/env bash\\ncd $(dirname $(readlink -f $0))\\n. venv/bin/activate\\n./venv/bin/jupyter-notebook\" >notebook.sh\n",
    "  chmod +x notebook.sh\n",
    "}\n",
    "./notebook.sh # Use notebook.sh to start jupyter notebook\n",
    "```\n",
    "    \n",
    "### Use setup notebook\n",
    "\n",
    "1. Open this notebook and run it."
   ]
  },
  {
   "cell_type": "markdown",
   "metadata": {},
   "source": [
    "## Install Required Packages"
   ]
  },
  {
   "cell_type": "code",
   "execution_count": null,
   "metadata": {},
   "outputs": [],
   "source": [
    "!pip install --upgrade pip\n",
    "!pip install geoplotlib keras matplotlib pandas pyglet scikit-learn scipy seaborn theano\n",
    "!pip install numpy==1.14.5 tensorflow==1.10.1"
   ]
  },
  {
   "cell_type": "markdown",
   "metadata": {},
   "source": [
    "## Review Installed Versions"
   ]
  },
  {
   "cell_type": "code",
   "execution_count": 1,
   "metadata": {},
   "outputs": [
    {
     "name": "stdout",
     "output_type": "stream",
     "text": [
      "Python: 3.6.5 (v3.6.5:f59c0932b4, Mar 28 2018, 03:03:55) \n",
      "[GCC 4.2.1 (Apple Inc. build 5666) (dot 3)]\n",
      "geoplotlib: unknown version\n"
     ]
    },
    {
     "name": "stderr",
     "output_type": "stream",
     "text": [
      "Using TensorFlow backend.\n"
     ]
    },
    {
     "name": "stdout",
     "output_type": "stream",
     "text": [
      "keras: 2.2.2\n",
      "matplotlib: 3.0.0\n",
      "pandas: 0.23.4\n",
      "sklearn: 0.20.0\n",
      "scipy: 1.1.0\n",
      "seaborn: 0.9.0\n",
      "theano: 1.0.3\n",
      "numpy: 1.14.5\n",
      "tensorflow: 1.10.1\n"
     ]
    }
   ],
   "source": [
    "import sys, warnings\n",
    "print('Python: {}'.format(sys.version))\n",
    "warnings.filterwarnings('ignore')\n",
    "for module in ('geoplotlib', 'keras', 'matplotlib', 'pandas','sklearn', 'scipy', 'seaborn', 'theano',\n",
    "                    'numpy', 'tensorflow'):\n",
    "    try:\n",
    "        print('{}: {}'.format(module, getattr(__import__(module, globals(), locals(), [], 0) , '__version__')))\n",
    "    except AttributeError:\n",
    "        print('{}: {}'.format(module, 'unknown version'))\n",
    "    except (ImportError, ModuleNotFoundError) as e:\n",
    "        print('Error while importing module {}: \"{}\"'.format(module, e))"
   ]
  },
  {
   "cell_type": "markdown",
   "metadata": {},
   "source": []
  }
 ],
 "metadata": {
  "kernelspec": {
   "display_name": "Python 3",
   "language": "python",
   "name": "python3"
  },
  "language_info": {
   "codemirror_mode": {
    "name": "ipython",
    "version": 3
   },
   "file_extension": ".py",
   "mimetype": "text/x-python",
   "name": "python",
   "nbconvert_exporter": "python",
   "pygments_lexer": "ipython3",
   "version": "3.6.5"
  }
 },
 "nbformat": 4,
 "nbformat_minor": 1
}
